{
 "cells": [
  {
   "cell_type": "markdown",
   "metadata": {},
   "source": [
    "### Imports"
   ]
  },
  {
   "cell_type": "code",
   "execution_count": 67,
   "metadata": {},
   "outputs": [],
   "source": [
    "import pandas as pd\n",
    "import cv2\n",
    "from matplotlib import pyplot as plt\n",
    "import numpy as np  \n",
    "import os\n",
    "\n",
    "from requests import post\n",
    "import json\n",
    "import base64\n",
    "import re\n",
    "from PIL import Image\n",
    "import shutil"
   ]
  },
  {
   "cell_type": "markdown",
   "metadata": {},
   "source": [
    "### Defs"
   ]
  },
  {
   "cell_type": "code",
   "execution_count": 68,
   "metadata": {},
   "outputs": [],
   "source": [
    "def get_iam_token(iam_url, oauth_token):\n",
    "    response = post(iam_url, json={\"yandexPassportOauthToken\": oauth_token})\n",
    "    json_data = json.loads(response.text)\n",
    "    if json_data is not None and 'iamToken' in json_data:\n",
    "        return json_data['iamToken']\n",
    "    return None\n",
    "\n",
    "# Функция отправляет на сервер запрос на распознавание изображения и возвращает ответ сервера. \n",
    "def request_analyze(vision_url, iam_token, folder_id, image_data): \n",
    "    response = post(vision_url, headers={'Authorization': 'Bearer '+iam_token}, json={ \n",
    "        'folderId': folder_id, \n",
    "        'analyzeSpecs': [ \n",
    "            { \n",
    "                'content': image_data, \n",
    "                'features': [ \n",
    "                    { \n",
    "                        'type': 'TEXT_DETECTION', \n",
    "                        'textDetectionConfig': {'languageCodes': ['en', 'ru']} \n",
    "                    } \n",
    "                ], \n",
    "            } \n",
    "        ]}) \n",
    "    return response\n",
    "\n",
    "def encode_file(file):\n",
    "  file_content = file.read()\n",
    "  return base64.b64encode(file_content)"
   ]
  },
  {
   "cell_type": "code",
   "execution_count": 69,
   "metadata": {},
   "outputs": [],
   "source": [
    "#displaying-different-images-with-actual-size-in-matplotlib-subplot\n",
    "def display(im_path):\n",
    "    dpi = 80\n",
    "    im_data = plt.imread(im_path)\n",
    "\n",
    "    height, width  = im_data.shape[:2]\n",
    "    \n",
    "    # What size does the figure need to be in inches to fit the image?\n",
    "    figsize = width / float(dpi), height / float(dpi)\n",
    "\n",
    "    # Create a figure of the right size with one axes that takes up the full figure\n",
    "    fig = plt.figure(figsize=figsize)\n",
    "    ax = fig.add_axes([0, 0, 1, 1])\n",
    "\n",
    "    # Hide spines, ticks, etc.\n",
    "    ax.axis('off')\n",
    "\n",
    "    # Display the image.\n",
    "    ax.imshow(im_data, cmap='gray')\n",
    "\n",
    "    plt.show()\n",
    "    \n",
    "\n",
    "def noise_removal(image):\n",
    "    kernel = np.ones((1, 1), np.uint8)\n",
    "    image = cv2.dilate(image, kernel, iterations=1)\n",
    "    kernel = np.ones((1, 1), np.uint8)\n",
    "    image = cv2.erode(image, kernel, iterations=1)\n",
    "    image = cv2.morphologyEx(image, cv2.MORPH_CLOSE, kernel)\n",
    "    image = cv2.medianBlur(image, 3)\n",
    "    return (image)\n",
    "\n",
    "def is_vin_number(string):\n",
    "    pattern = r'^[A-HJ-NPR-Z0-9]{17}$'\n",
    "    return bool(re.match(pattern, string))"
   ]
  },
  {
   "cell_type": "markdown",
   "metadata": {},
   "source": [
    "### Recognition function"
   ]
  },
  {
   "cell_type": "code",
   "execution_count": 70,
   "metadata": {},
   "outputs": [],
   "source": [
    "def preprocessing(path):\n",
    "    image_file = path\n",
    "    img = cv2.imread(image_file)\n",
    "    gray_image = cv2.cvtColor(img, cv2.COLOR_BGR2GRAY)\n",
    "    thresh2 = cv2.adaptiveThreshold(gray_image, 255, cv2.ADAPTIVE_THRESH_GAUSSIAN_C, cv2.THRESH_BINARY, 43, 5) \n",
    "    return thresh2"
   ]
  },
  {
   "cell_type": "code",
   "execution_count": 71,
   "metadata": {},
   "outputs": [],
   "source": [
    "token = 'y0_AgAAAAB0C5bdAATuwQAAAAD6VzoGAAA546pjk2xKgJ6BBauxNGAW_m6gUg'\n",
    "iam_url = 'https://iam.api.cloud.yandex.net/iam/v1/tokens'\n",
    "iam_token_global = get_iam_token(iam_url, token)"
   ]
  },
  {
   "cell_type": "code",
   "execution_count": 72,
   "metadata": {},
   "outputs": [],
   "source": [
    "def yandex_recognition_full(file_link, iam_token = iam_token_global):\n",
    "    vision_url = 'https://vision.api.cloud.yandex.net/vision/v1/batchAnalyze'\n",
    "\n",
    "    folder_id = 'b1gpfo4tsd8fm51jlbqp'\n",
    "\n",
    "    with open(file_link, \"rb\") as f:\n",
    "        image_data = base64.b64encode(f.read()).decode('utf-8')    \n",
    "        \n",
    "\n",
    "    response = request_analyze(vision_url, iam_token, folder_id, image_data)\n",
    "    \n",
    "    return response"
   ]
  },
  {
   "cell_type": "code",
   "execution_count": 73,
   "metadata": {},
   "outputs": [],
   "source": [
    "def yandex_recognition(file_link, iam_token = iam_token_global):\n",
    "    vision_url = 'https://vision.api.cloud.yandex.net/vision/v1/batchAnalyze'\n",
    "\n",
    "    folder_id = 'b1gpfo4tsd8fm51jlbqp'\n",
    "\n",
    "    with open(file_link, \"rb\") as f:\n",
    "        image_data = base64.b64encode(f.read()).decode('utf-8')    \n",
    "        \n",
    "\n",
    "    response = request_analyze(vision_url, iam_token, folder_id, image_data)\n",
    "    \n",
    "    vin = 'Ошибка распознавания'\n",
    "    try:\n",
    "        for i in response.json()['results'][0]['results'][0]['textDetection']['pages'][0]['blocks']:\n",
    "            for j in i['lines']:\n",
    "                for k in j['words']:\n",
    "                    k_zv = k['text'].replace('*', '')\n",
    "                    k_zv = k_zv.replace('O', 'D')\n",
    "                    k_zv = k_zv.replace('+', '')\n",
    "                    k_zv = k_zv.replace('j', 'J')\n",
    "                    k_zv = k_zv.replace('-', '')\n",
    "                    k_zv = k_zv.replace('#', '')\n",
    "                    if is_vin_number(k_zv):\n",
    "                        vin = k_zv\n",
    "    except:\n",
    "        vin = 'Ошибка распознавания'\n",
    "    \n",
    "    return vin"
   ]
  },
  {
   "cell_type": "markdown",
   "metadata": {},
   "source": [
    "### Data initialization"
   ]
  },
  {
   "cell_type": "code",
   "execution_count": null,
   "metadata": {},
   "outputs": [],
   "source": [
    "#local path\n",
    "#path = r\"C:\\Apps\\Projects\\VIN_codes\\all_vins_etalon.xlsx\"\n",
    "\n",
    "#global path\n",
    "path = r\"C:\\Apps\\Projects\\VIN_codes\\all_vins_etalon.xlsx\"\n",
    "\n",
    "\n",
    "etalon_vins = pd.read_excel(path)\n",
    "etalon_vins = etalon_vins.set_index('VIN')\n",
    "etalon_vins"
   ]
  },
  {
   "cell_type": "code",
   "execution_count": 65,
   "metadata": {},
   "outputs": [],
   "source": [
    "#network folder\n",
    "input_path = r\"R:\\FAS\\Valuation\\Phoenix\\02.01 Site Inspection\\Лахта\\Антон\"\n",
    "output_path = r\"R:\\FAS\\Valuation\\Phoenix\\02.01 Site Inspection\\Лахта\"\n",
    "\n",
    "output_folder_path = output_path + '\\\\' + input_path.split('\\\\')[-2] + '_' + input_path.split('\\\\')[-1] + '_sorted_v3'"
   ]
  },
  {
   "cell_type": "code",
   "execution_count": 79,
   "metadata": {},
   "outputs": [],
   "source": [
    "#local folder\n",
    "input_path = r\"C:\\Apps\\Projects\\VIN_codes\\real_dataset\"\n",
    "output_path = r\"C:\\Apps\\Projects\\VIN_codes\"\n",
    "\n",
    "output_folder_path = output_path + '\\\\' + input_path.split('\\\\')[-1] + '_sorted'"
   ]
  },
  {
   "cell_type": "code",
   "execution_count": 24,
   "metadata": {},
   "outputs": [],
   "source": [
    "not_found_path = output_folder_path + '\\\\' + '!not_found'\n",
    "bad_recognition_path = output_folder_path + '\\\\' + '!bad_recognition'"
   ]
  },
  {
   "cell_type": "code",
   "execution_count": null,
   "metadata": {},
   "outputs": [],
   "source": [
    "\n",
    "not_found_path = output_folder_path + '\\\\' + '!not_found'\n",
    "bad_recognition_path = output_folder_path + '\\\\' + '!bad_recognition'\n",
    "\n",
    "os.mkdir(output_folder_path)\n",
    "os.mkdir(not_found_path)\n",
    "os.mkdir(bad_recognition_path)\n",
    "\n",
    "\n",
    "photos = os.listdir(input_path)\n",
    "#photos = photos[1:]\n",
    "if 'Thumbs.db' in photos:\n",
    "    photos.remove('Thumbs.db')\n",
    "\n",
    "number_of_photos =  len(photos)\n",
    "print('Всего ', number_of_photos, ' фотографий (', number_of_photos/3, 'машин)')\n",
    "\n",
    "for index, i in enumerate(photos):   \n",
    "    \n",
    "    if index % 3 == 0:\n",
    "        \n",
    "        current_input_direction = input_path + '\\\\' + i\n",
    "               \n",
    "        im = Image.open(current_input_direction)\n",
    "        resized_im = im.resize((round(im.size[0]*0.6), round(im.size[1]*0.6)))\n",
    "        resized_im.save(i)\n",
    "        \n",
    "        current_input_direction = i\n",
    "    \n",
    "        if (current_input_direction[-4:] == '.JPG') or (current_input_direction[-4:] == '.jpg'):\n",
    "\n",
    "            text = yandex_recognition(current_input_direction)\n",
    "        \n",
    "            if text in all_vins:\n",
    "                comment = 'OK'\n",
    "\n",
    "                current_vin_output_path = output_folder_path + '\\\\' + text\n",
    "                try:\n",
    "                    os.mkdir(current_vin_output_path)\n",
    "                except:\n",
    "                    None\n",
    "                \n",
    "                shutil.copy(input_path + '\\\\' + photos[index], current_vin_output_path)\n",
    "                shutil.copy(input_path + '\\\\' + photos[index+1], current_vin_output_path)\n",
    "                shutil.copy(input_path + '\\\\' + photos[index+2], current_vin_output_path)\n",
    "                \n",
    "                \n",
    "            elif text == 'Ошибка распознавания':\n",
    "                comment = \"\"\n",
    "                \n",
    "                shutil.copy(input_path + '\\\\' + photos[index], bad_recognition_path)\n",
    "                shutil.copy(input_path + '\\\\' + photos[index+1], bad_recognition_path)\n",
    "                shutil.copy(input_path + '\\\\' + photos[index+2], bad_recognition_path)\n",
    "            \n",
    "            else:\n",
    "                comment = 'Не найден VIN в базе'\n",
    "                current_vin_output_path = not_found_path + '\\\\' + text\n",
    "                try:\n",
    "                    os.mkdir(current_vin_output_path)\n",
    "                except:\n",
    "                    None\n",
    "                \n",
    "                shutil.copy(input_path + '\\\\' + photos[index], current_vin_output_path)\n",
    "                shutil.copy(input_path + '\\\\' + photos[index+1], current_vin_output_path)\n",
    "                shutil.copy(input_path + '\\\\' + photos[index+2], current_vin_output_path)\n",
    "            \n",
    "            print(round(((index + 3)/number_of_photos)*100, 2), '% обработано -', index/3 + 1, i, text, comment)\n",
    "            os.remove(i)"
   ]
  },
  {
   "cell_type": "markdown",
   "metadata": {},
   "source": [
    "### Работа над ошибками"
   ]
  },
  {
   "cell_type": "code",
   "execution_count": null,
   "metadata": {},
   "outputs": [],
   "source": [
    "photos = os.listdir(bad_recognition_path)\n",
    "#photos = photos[60:] \n",
    "for index, i in enumerate(photos):\n",
    "    \n",
    "    if index % 3 == 0:\n",
    "        \n",
    "        current_input_direction = bad_recognition_path + '\\\\' + i\n",
    "\n",
    "        \"\"\"im = Image.open(current_input_direction)\n",
    "        resized_im = im.resize((round(im.size[0]*0.3), round(im.size[1]*0.3)))\n",
    "        resized_im.save(i)\n",
    "        current_input_direction = i\"\"\"\n",
    "    \n",
    "        if current_input_direction[-4:] == '.JPG' or current_input_direction[-4:] == '.jpg':\n",
    "\n",
    "            text = yandex_recognition(current_input_direction)\n",
    "        \n",
    "            if text in all_vins:\n",
    "                \n",
    "            \n",
    "                comment = 'OK'\n",
    "\n",
    "                current_vin_output_path = output_folder_path + '\\\\' + text\n",
    "                os.mkdir(current_vin_output_path)\n",
    "                    \n",
    "                shutil.move(bad_recognition_path + '\\\\' + photos[index], current_vin_output_path)\n",
    "                shutil.move(bad_recognition_path + '\\\\' + photos[index+1], current_vin_output_path)\n",
    "                shutil.move(bad_recognition_path + '\\\\' + photos[index+2], current_vin_output_path)\n",
    "            \n",
    "            elif text == 'Ошибка распознавания':\n",
    "                comment = ''\n",
    "            \n",
    "            else:\n",
    "                comment = 'Не найден VIN в базе'\n",
    "                current_vin_output_path = not_found_path + '\\\\' + text\n",
    "                os.mkdir(current_vin_output_path)\n",
    "                \n",
    "                shutil.move(bad_recognition_path + '\\\\' + photos[index], current_vin_output_path)\n",
    "                shutil.move(bad_recognition_path + '\\\\' + photos[index+1], current_vin_output_path)\n",
    "                shutil.move(bad_recognition_path + '\\\\' + photos[index+2], current_vin_output_path)\n",
    "            \n",
    "            print(index/3, i, text, comment)\n",
    "             \n",
    "            try:\n",
    "                os.remove(i)\n",
    "            except:\n",
    "                None"
   ]
  },
  {
   "cell_type": "markdown",
   "metadata": {},
   "source": []
  },
  {
   "cell_type": "code",
   "execution_count": null,
   "metadata": {},
   "outputs": [],
   "source": []
  }
 ],
 "metadata": {
  "kernelspec": {
   "display_name": "Python 3",
   "language": "python",
   "name": "python3"
  },
  "language_info": {
   "codemirror_mode": {
    "name": "ipython",
    "version": 3
   },
   "file_extension": ".py",
   "mimetype": "text/x-python",
   "name": "python",
   "nbconvert_exporter": "python",
   "pygments_lexer": "ipython3",
   "version": "3.12.0"
  }
 },
 "nbformat": 4,
 "nbformat_minor": 2
}
